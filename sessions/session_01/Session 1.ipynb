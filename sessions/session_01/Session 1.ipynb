{
 "cells": [
  {
   "cell_type": "markdown",
   "metadata": {
    "slideshow": {
     "slide_type": "slide"
    }
   },
   "source": [
    "# Welcome!\n",
    "\n",
    "![](https://i.pinimg.com/736x/93/8f/75/938f75ace142cfa0b22b4dbe5cc558a3--minion-classroom-classroom-ideas.jpg)"
   ]
  },
  {
   "cell_type": "markdown",
   "metadata": {
    "slideshow": {
     "slide_type": "slide"
    }
   },
   "source": [
    "# About this course\n",
    "\n",
    "## Who are we?\n",
    "\n",
    "  * **Teachers**: Helge, Mircea, Paolo\n",
    "  * **TAs**: Christoffer, Zander\n",
    "  \n",
    "### How to contact us?\n",
    "\n",
    "  - Helge: Office hour Mondays 16:00 to 17:00\n",
    "  - Via _talk@itu_: https://talk.itu.dk/channel/itu-devops-all"
   ]
  },
  {
   "cell_type": "markdown",
   "metadata": {
    "slideshow": {
     "slide_type": "subslide"
    }
   },
   "source": [
    "## Helge\n",
    "\n",
    "<img src=\"http://staticmap.openstreetmap.de/staticmap.php?center=50.9281717,11.5879359&zoom=6&size=865x512&maptype=mapnik&markers=50.9281717,11.5879359,lightblue1\"/>\n",
    "\n",
    "  * Dipl-Inf. in Software Engineering from Friedrich-Schiller Universität Jena\n",
    "  * PhD in Software Engineering from ITU\n",
    "  * Software engineer at DMI\n",
    "  * Lecturer at Cphbusiness\n",
    "  * Since January 2019 back to ITU as adjunkt in the Center for Government IT\n"
   ]
  },
  {
   "cell_type": "markdown",
   "metadata": {
    "slideshow": {
     "slide_type": "subslide"
    }
   },
   "source": [
    "## Who are you?\n",
    "\n",
    "http://www.menti.com"
   ]
  },
  {
   "cell_type": "markdown",
   "metadata": {
    "slideshow": {
     "slide_type": "subslide"
    }
   },
   "source": [
    "## Our Expectations\n",
    "\n",
    "  * Having fun with our work.\n",
    "  * Hopefully, presenting relevant aspects of software engineering that are representative for your future professional tasks. \n",
    "    - \n",
    "\n",
    "    > M2. Maintenance typically consumes about 40 to 80 percent (60 percent average) of software costs. Therefore, it is probably the most important life cycle phase.\n",
    "    >\n",
    "    > ...\n",
    "    >\n",
    "    > M5. Most software development tasks and software maintenance tasks are the same—except for the additional maintenance task of \"understanding the existing product.\"\" This task is the dominant maintenance activity, consuming roughly 30 percent of maintenance time. So, you could claim that maintenance is more difficult than development.\n",
    "    >\n",
    "    > [Robert L. Glass \"Frequently Forgotten Fundamental Facts about Software Engineering\"](http://www.eng.auburn.edu/~kchang/comp6710/readings/Forgotten_Fundamentals_IEEE_Software_May_2001.pdf)\n",
    "  * That we learn from your experiences and knowledge. (We are not smarter than you are when it comes to the topics of this course, we only have a good idea on what we shall do together) \n",
    "\n"
   ]
  },
  {
   "cell_type": "markdown",
   "metadata": {
    "slideshow": {
     "slide_type": "subslide"
    }
   },
   "source": [
    "  * That you support each other when working in groups. The entire course and your projects are a team endeavor.\n",
    "  * That you work continuously (as we do) on this course.\n",
    "  * That you work for the about 10-12 hours per week on this course that you should have allocated for it according to ECTS.\n",
    "  * That you work collaboratively in public repositories on Github.\n",
    "\n",
    "Note, be prepared for quite a bit of work and many moments of despair :( This is unfortunatelly how learning works, in the moment it hurts but once you know how to solve your problems, solutions appear to be easy and straight forward."
   ]
  },
  {
   "cell_type": "markdown",
   "metadata": {
    "slideshow": {
     "slide_type": "subslide"
    }
   },
   "source": [
    "## Schedule and Material\n",
    "\n",
    "  * Schedule: https://github.com/itu-devops/2020-spring#schedule\n",
    "  * Course's repository: https://github.com/itu-devops/2020-spring\n"
   ]
  },
  {
   "cell_type": "markdown",
   "metadata": {
    "slideshow": {
     "slide_type": "subslide"
    }
   },
   "source": [
    "## LearnIT\n",
    "\n",
    "Find on LearnIT: https://learnit.itu.dk/course/view.php?id=3019324 the:\n",
    "  - official course description, \n",
    "  - intended learning outcomes, and \n",
    "  - exam description \n",
    "  \n"
   ]
  },
  {
   "cell_type": "markdown",
   "metadata": {
    "slideshow": {
     "slide_type": "subslide"
    }
   },
   "source": [
    "## Getting Discounts\n",
    "\n",
    "Check the Github student developers pack, https://education.github.com/pack.\n",
    "\n",
    "You can get credits for some of the platforms we are going to use throughout this course."
   ]
  },
  {
   "cell_type": "markdown",
   "metadata": {
    "slideshow": {
     "slide_type": "subslide"
    }
   },
   "source": [
    "## Project work\n",
    "\n",
    "You will run through this course in groups. All project groups have preferably five members (BSc./MSc. students respectively). These groups realize the projects together.\n",
    "\n",
    "The project work forms the basis of this course. That is, you cannot expect to come to lectures listen and read a bit and then pass the exam. This is a hands-on course and you will have to perform _\"DevOps, software evolution and software maintenance activities [...] directly on [your] systems\"_ (Course Description on LearnIT)\n"
   ]
  },
  {
   "cell_type": "markdown",
   "metadata": {
    "slideshow": {
     "slide_type": "subslide"
    }
   },
   "source": [
    "## Why Linux (Ubuntu)?\n",
    "\n",
    "\n",
    "### You are a Software Developer\n",
    "\n",
    "According to Stack Overflow's _Web Developer Survey Results 2016_ survey, 47.9% of the English-speaking users prefer a *nix OS for development.\n",
    "\n",
    "https://insights.stackoverflow.com/survey/2016#technology-desktop-operating-system\n"
   ]
  },
  {
   "cell_type": "markdown",
   "metadata": {
    "slideshow": {
     "slide_type": "subslide"
    }
   },
   "source": [
    "### Public servers on the Internet\n",
    "\n",
    "Depending on the statistics, up to 98.3% of servers on the internet run some kind of Linux or Unix.\n",
    "https://en.wikipedia.org/wiki/Usage_share_of_operating_systems#Public_servers_on_the_Internet\n"
   ]
  },
  {
   "cell_type": "markdown",
   "metadata": {
    "slideshow": {
     "slide_type": "subslide"
    }
   },
   "source": [
    "\n",
    "### *nix on Supercomputers\n",
    "\n",
    "https://en.wikipedia.org/wiki/Usage_share_of_operating_systems#Supercomputers\n",
    "\n",
    "![](https://upload.wikimedia.org/wikipedia/commons/thumb/0/0d/Operating_systems_used_on_top_500_supercomputers.svg/1200px-Operating_systems_used_on_top_500_supercomputers.svg.png)\n",
    "Supercomputer OS family – 1993–2017 systems share according to TOP500\n",
    "\n"
   ]
  },
  {
   "cell_type": "markdown",
   "metadata": {
    "slideshow": {
     "slide_type": "subslide"
    }
   },
   "source": [
    "### Practical reasons\n",
    "\n",
    "Since this is a hands-on course, we provide a lot of code and examples using various technologies.\n",
    "\n",
    "Unfortunately, we do not have resources to do that consistently over various versions of Windows, Linux, and MacOS."
   ]
  },
  {
   "cell_type": "markdown",
   "metadata": {
    "slideshow": {
     "slide_type": "slide"
    }
   },
   "source": [
    "# Groups\n",
    "\n",
    "  * Each group should have _five_ members.\n",
    "  * We will form them **now!**\n",
    "\n",
    "<img src=\"https://i.gifer.com/RFm.gif\" width=50%/>  "
   ]
  },
  {
   "cell_type": "markdown",
   "metadata": {
    "slideshow": {
     "slide_type": "slide"
    }
   },
   "source": [
    "----------------------\n",
    "# Getting bored today?\n",
    "\n",
    "\n",
    "![](http://static3.businessinsider.com/image/4fbfb86becad044879000001-506-253/suddenly-startups-have-gotten-very-boring.jpg)\n",
    "\n",
    "  - Read and experiment with https://ryanstutorials.net/bash-scripting-tutorial/. In paticular work with the sections on variables,`if` statements, loops and functions\n",
    "  - Understnad how programming shell scripts is different to programming in a programming lnaguage that you know: https://www.linuxjournal.com/content/understanding-bash-elements-programming\n",
    "\n",
    "In case you need some introduction to working with Linux:\n",
    "  - https://ryanstutorials.net/linuxtutorial/"
   ]
  },
  {
   "cell_type": "markdown",
   "metadata": {
    "slideshow": {
     "slide_type": "slide"
    }
   },
   "source": [
    "# The Story\n",
    "\n",
    "This is fiction but it is the story for this course :)\n",
    "\n",
    "![](https://upload.wikimedia.org/wikipedia/en/1/18/Photo_promoting_the_single_%22Leuchtturm%22_by_Nena.jpg)\n",
    "\n",
    "\n",
    "Ten years ago in 2009 some unknown young developers at ITU decided to build a small micro-blogging platform _ITU-MiniTwit_ to take over the market from Twitter, which was only three years old at that point.\n"
   ]
  },
  {
   "cell_type": "markdown",
   "metadata": {
    "slideshow": {
     "slide_type": "subslide"
    }
   },
   "source": [
    "## _ITU-MiniTwit_\n",
    "\n",
    "\n",
    "<img src=\"images/ITU-minitwit-screenshot.png\" width=80%/>"
   ]
  },
  {
   "cell_type": "markdown",
   "metadata": {
    "slideshow": {
     "slide_type": "subslide"
    }
   },
   "source": [
    "\n",
    "They programed in a mix of hot technologies of the time on an Apple iBook G4, the computer which supported almost all of their earlier studies.\n",
    "\n",
    "<img src=\"https://upload.wikimedia.org/wikipedia/commons/6/62/IBook_G4.jpg\" width=50%/>\n",
    "\n",
    "The unknown young developers finished implementing a __Minimal Viable Prototype__ of _ITU-MiniTwit_, which is running on that machine.\n",
    "\n",
    "Now almost eleven years later, we decide to resurrect their work and we will continue development from where they left."
   ]
  },
  {
   "cell_type": "markdown",
   "metadata": {
    "slideshow": {
     "slide_type": "slide"
    }
   },
   "source": [
    "# _ITU-MiniTwit_\n",
    "\n",
    "\n",
    "<img src=\"images/ITU-minitwit-screenshot.png\" width=80%/>"
   ]
  },
  {
   "cell_type": "markdown",
   "metadata": {
    "slideshow": {
     "slide_type": "subslide"
    }
   },
   "source": [
    "## Where is _ITU-MiniTwit_ running?\n",
    "\n",
    "During the time of this lecture it is running on the machine with the IP `192.168.2.102` in the wireless network `DevOpsEvoMain`.\n",
    "\n",
    "### Your Turn!\n",
    "<img src=\"https://media.giphy.com/media/13GIgrGdslD9oQ/giphy.gif\" width=50%/>\n",
    "\n",
    "  - Connect your computers to the network: `DevOpsEvoMain`.\n",
    "  - The password is: `d3v0p5-cla55!`\n",
    "  \n",
    "  - Point your browser to: http://192.168.2.102:5000.\n",
    "  - You should see the application like this:\n",
    "  <img src=\"images/ITU-minitwit-screenshot.png\" width=70%/>\n",
    "  \n",
    "  - Play around with the system\n",
    "    - Sign-up\n",
    "    - Thereafter, create some tweets\n",
    "    - Let some of them contain swear words, as we need some tweets to filter out later"
   ]
  },
  {
   "cell_type": "markdown",
   "metadata": {
    "slideshow": {
     "slide_type": "subslide"
    }
   },
   "source": [
    "## How does _ITU-MiniTwit_ work?\n"
   ]
  },
  {
   "cell_type": "markdown",
   "metadata": {
    "slideshow": {
     "slide_type": "subslide"
    }
   },
   "source": [
    "### A client-server application\n",
    "\n",
    "<img src=\"images/ITU-minitwit-architecture-highlevel.png\" width=80%/>\n"
   ]
  },
  {
   "cell_type": "markdown",
   "metadata": {
    "slideshow": {
     "slide_type": "subslide"
    }
   },
   "source": [
    "### A high-level overview over _ITU-MiniTwit_\n",
    "\n",
    "  <img src=\"images/ITU-minitwit-architecture.png\" width=90%/>\n"
   ]
  },
  {
   "cell_type": "markdown",
   "metadata": {
    "slideshow": {
     "slide_type": "subslide"
    }
   },
   "source": [
    "## Connecting to the server and inspecting _ITU-MiniTwit_ (Bash basics)\n",
    "\n",
    "Note, in the listings `$` denotes the prompt on your local machine, which might look different in your case and `bommel:~ bummel$` is the prompt on the server machine.\n",
    "\n",
    "\n",
    "```bash\n",
    "$ ssh bummel@192.168.2.102\n",
    "bommel:~ bummel$ cd itu-minitwit/\n",
    "bommel:~/itu-minitwit bummel$ ls\n",
    "control.sh\tflag_tool\tminitwit.py\tschema.sql\tstatic\t\ttemplates\n",
    "```"
   ]
  },
  {
   "cell_type": "markdown",
   "metadata": {
    "slideshow": {
     "slide_type": "subslide"
    }
   },
   "source": [
    "### Inspecting the database as admin\n",
    "\n",
    "```bash\n",
    "bommel:~/itu-minitwit bummel$ ./control.sh inspectdb\n",
    "```\n",
    "\n",
    "  - What do you see?\n",
    "  - How can you navigate through the database?\n",
    "  - How can you search for a string?\n",
    "  - How do you find its next/previous occurrence?"
   ]
  },
  {
   "cell_type": "markdown",
   "metadata": {
    "slideshow": {
     "slide_type": "subslide"
    }
   },
   "source": [
    "### How does inspecting the database work?\n",
    "\n",
    "Look into the control script. For example with the `less` command:\n",
    "\n",
    "```bash\n",
    "bommel:~/itu-minitwit bummel$ less -N ./control.sh\n",
    "```\n",
    "\n",
    "  - What do lines 18 and 19 do?\n",
    "  - What is the meaning of `|` in line 19?\n",
    "  - What are `-N` and `./control.sh` in the above command?\n",
    "  - What is the meaning of `./` in it?"
   ]
  },
  {
   "cell_type": "markdown",
   "metadata": {
    "slideshow": {
     "slide_type": "subslide"
    }
   },
   "source": [
    "### How can I run the `flag_tool` program manually?\n",
    "\n",
    "```bash\n",
    "bommel:~/itu-minitwit bummel$ ./flag_tool\n",
    "```\n",
    "\n",
    "It will not do anything. So try to read its help text\n",
    "\n",
    "```bash\n",
    "bommel:~/itu-minitwit bummel$ ./flag_tool -h\n",
    "```\n",
    "\n",
    "Afterwards run:\n",
    "\n",
    "```bash\n",
    "bommel:~/itu-minitwit bummel$ ./flag_tool -i\n",
    "```\n",
    "\n",
    "What happens and why?"
   ]
  },
  {
   "cell_type": "markdown",
   "metadata": {
    "slideshow": {
     "slide_type": "subslide"
    }
   },
   "source": [
    "### Another way of searching for strings in text\n",
    "\n",
    "You may want to use the `grep` command:\n",
    "\n",
    "```bash\n",
    "bommel:~/itu-minitwit bummel$ ./flag_tool -i | grep \"idiot\"\n",
    "bommel:~/itu-minitwit bummel$ ./flag_tool -i | grep \"dumb\"\n",
    "```\n",
    "\n",
    "  - What does again the `|` do?\n",
    "  - What does `grep` do?\n",
    "  - What are `\"idiot\"` and `\"dumb\"` in the above command?"
   ]
  },
  {
   "cell_type": "markdown",
   "metadata": {
    "slideshow": {
     "slide_type": "subslide"
    }
   },
   "source": [
    "### Getting help for a command\n",
    "\n",
    "In case you are in doubt, usually a commands manual is quite conclusive:\n",
    "\n",
    "```bash\n",
    "bommel:~/itu-minitwit bummel$ man grep\n",
    "```"
   ]
  },
  {
   "cell_type": "markdown",
   "metadata": {
    "slideshow": {
     "slide_type": "subslide"
    }
   },
   "source": [
    "### How do I know that _ITU-MiniTwit_ is running?\n",
    "\n",
    "If you could talk to the previous developers, they would tell you that the application is started running `./control.sh start`. As described in this script, this will create a file `/tmp/minitwit.pid` containing the process ID (PID) of the running application.\n",
    "\n",
    "```bash\n",
    "bommel:~/itu-minitwit bummel$ ls -ltrh /tmp/minitwit.pid\n",
    "-rw-r--r--   1 bummel  wheel  5B Jan 29 14:34 /tmp/minitwit.pid\n",
    "bommel:~/itu-minitwit bummel$ cat /tmp/minitwit.pid\n",
    "1996\n",
    "```\n",
    "\n",
    "Whenever you run `./control.sh stop` the process with the corresponding PID is `kill`ed and the file `/tmp/minitwit.pid` is deleted."
   ]
  },
  {
   "cell_type": "markdown",
   "metadata": {
    "slideshow": {
     "slide_type": "subslide"
    }
   },
   "source": [
    "### How do I know that _ITU-MiniTwit_ is running?\n",
    "\n",
    "Since the knowledge of the previous developers is likely lost, you could inspect the list of all running processes and `grep` for the name of the command:\n",
    "\n",
    "```bash\n",
    "bommel:~/itu-minitwit bummel$ ps aux | grep minitwit\n",
    "bummel    2024   2.7  2.7    51436  13972  p4  S     2:45PM   0:01.61 /opt/local/Library/Frameworks/Python.framework/Versions/2.6/Resources/Python.app/Contents/MacOS/Python minitwit\n",
    "bummel    2023   0.0  2.6    50920  13664  p4  S     2:45PM   0:01.48 /opt/local/Library/Frameworks/Python.framework/Versions/2.6/Resources/Python.app/Contents/MacOS/Python minitwit\n",
    "bummel    2026   0.0  0.0    27812      4  p4  R+    2:45PM   0:00.00 grep minitwit\n",
    "```"
   ]
  },
  {
   "cell_type": "markdown",
   "metadata": {
    "slideshow": {
     "slide_type": "slide"
    }
   },
   "source": [
    "----------------------------"
   ]
  },
  {
   "cell_type": "markdown",
   "metadata": {
    "slideshow": {
     "slide_type": "slide"
    }
   },
   "source": [
    "## Getting _ITU-MiniTwit_ from the remote machine\n",
    "\n",
    "The developers back in 2009 did not have a repository on Github with all the artifacts of their application. Github was first launched in 2008 and our developers did not hear about it yet...\n",
    "\n",
    "So you have to do what really many people still do today. You copy the files over from the remote machine.\n",
    "\n",
    "  - How do you do this?"
   ]
  },
  {
   "cell_type": "markdown",
   "metadata": {
    "slideshow": {
     "slide_type": "subslide"
    }
   },
   "source": [
    "### Using `scp` to copy files/directories from a remote machine\n",
    "\n",
    "\n",
    "```bash\n",
    "$ scp -r bummel@192.168.2.102:/Users/bummel/itu-minitwit ~/Desktop/\n",
    "```\n",
    "\n",
    "#### What kind of files did you download?\n",
    "\n",
    "\n",
    "```bash\n",
    "$ cd ~/Desktop/itu-minitwit\n",
    "$ ls -la\n",
    "total 60\n",
    "drwxr-xr-x 4 ropf ropf  4096 Jan 29 10:56 .\n",
    "drwxr-xr-x 4 ropf ropf  4096 Jan 29 10:58 ..\n",
    "-rwxr-xr-x 1 ropf ropf   688 Jan 29 10:56 control.sh\n",
    "-rw-r--r-- 1 ropf ropf  6148 Jan 29 10:56 .DS_Store\n",
    "-rwxr-xr-x 1 ropf ropf 14036 Jan 29 10:56 flag_tool\n",
    "-rwxr-xr-x 1 ropf ropf  8514 Jan 29 10:56 minitwit.py\n",
    "-rw-r--r-- 1 ropf ropf   466 Jan 29 10:56 schema.sql\n",
    "drwxr-xr-x 2 ropf ropf  4096 Jan 29 10:56 static\n",
    "drwxr-xr-x 2 ropf ropf  4096 Jan 29 10:56 templates\n",
    "```"
   ]
  },
  {
   "cell_type": "markdown",
   "metadata": {
    "slideshow": {
     "slide_type": "subslide"
    }
   },
   "source": [
    "##### What is a `.DS_Store` file?\n",
    "\n",
    "Since you do not need this for your work you may remove (command `rm`) it.\n",
    "\n",
    "```bash\n",
    "$ file .DS_Store \n",
    ".DS_Store: Apple Desktop Services Store\n",
    "$ rm .DS_Store\n",
    "```"
   ]
  },
  {
   "cell_type": "markdown",
   "metadata": {
    "slideshow": {
     "slide_type": "subslide"
    }
   },
   "source": [
    "##### What are the other files `minitwit.py`, `flag_tool`, `control.sh`?\n",
    "\n",
    "You can check that with the `file` command:\n",
    "\n",
    "```bash\n",
    "$ file minitwit.py \n",
    "minitwit.py: Python script, ASCII text executable\n",
    "$ file flag_tool \n",
    "flag_tool: Mach-O ppc executable, flags:<NOUNDEFS|DYLDLINK|TWOLEVEL>\n",
    "$ file control.sh \n",
    "control.sh: ASCII text\n",
    "```"
   ]
  },
  {
   "cell_type": "markdown",
   "metadata": {
    "slideshow": {
     "slide_type": "subslide"
    }
   },
   "source": [
    "Use the `less` command to inspect the files `minitwit.py`, `flag_tool`, and `control.sh`.\n",
    "\n",
    "  - What do you see?"
   ]
  },
  {
   "cell_type": "markdown",
   "metadata": {
    "slideshow": {
     "slide_type": "subslide"
    }
   },
   "source": [
    "#### What happens when you run the `flag_tool`?\n",
    "\n",
    "\n",
    "```bash\n",
    "$ ./flag_tool -h\n",
    "bash: ./flag_tool: cannot execute binary file: Exec format error\n",
    "```\n",
    "\n",
    "  - What does that mean?\n",
    "  - Where does the error come from?"
   ]
  },
  {
   "cell_type": "markdown",
   "metadata": {
    "slideshow": {
     "slide_type": "subslide"
    }
   },
   "source": [
    "## Do you have everything?\n",
    "\n",
    "\n",
    "  <img src=\"images/ITU-minitwit-architecture.png\" width=80%/>\n",
    "\n",
    "\n",
    "  - Which files/artifacts are missing in what you have?"
   ]
  },
  {
   "cell_type": "markdown",
   "metadata": {
    "slideshow": {
     "slide_type": "subslide"
    }
   },
   "source": [
    "## Getting the sources\n",
    "\n",
    "```bash\n",
    "$ scp -r bummel@192.168.2.102:/Users/bummel/workspace/itu-minitwit-src ~/Desktop/\n",
    "```\n",
    "\n",
    "And just to also collect all of your tweets, let's copy the most current database:\n",
    "\n",
    "```bash\n",
    "$ scp bummel@192.168.2.102:/tmp/minitwit.db ~/Desktop/itu-minitwit\n",
    "```\n",
    "\n",
    "Now, you have everything that you need for your task until next week."
   ]
  },
  {
   "cell_type": "markdown",
   "metadata": {
    "slideshow": {
     "slide_type": "subslide"
    }
   },
   "source": [
    "## Adding Version Control\n",
    "\n",
    "Before continuing our work, convert the contents of the directory `itu-minitwit-src` into a Git repository and add all files to it so that you can always go back to the beginning of your work.\n",
    "\n",
    "  - How do you do that again?\n",
    "  \n",
    "  \n",
    "In case you are in doubt check chapter 2 _\"Git Basics\"_ from the free online [Pro Git book](https://git-scm.com/book/en/v2)"
   ]
  },
  {
   "cell_type": "markdown",
   "metadata": {
    "slideshow": {
     "slide_type": "slide"
    }
   },
   "source": [
    "## Pyha, that was quick with all this Bash stuff\n",
    "\n",
    "In case there were too many new concepts and commands in this session, you may want to read and interact with the following tutorials:\n",
    "\n",
    "  - https://ryanstutorials.net/bash-scripting-tutorial/\n",
    "  - https://ryanstutorials.net/linuxtutorial/"
   ]
  },
  {
   "cell_type": "markdown",
   "metadata": {
    "slideshow": {
     "slide_type": "slide"
    }
   },
   "source": [
    "# Reflection\n",
    "\n",
    "## What did you learn today?\n",
    "\n",
    "\n",
    "  - Some new command line stuff, for example special variables in Bash `$@`\n",
    "  - Difficulties & history of past/tools.\n",
    "  - How to approach an existing code base.\n",
    "  - Automate and make work replicable."
   ]
  },
  {
   "cell_type": "markdown",
   "metadata": {
    "slideshow": {
     "slide_type": "slide"
    }
   },
   "source": [
    "-----------\n",
    "\n",
    "\n",
    "# Your turn now!\n",
    "\n",
    "<img src=\"https://media.giphy.com/media/13GIgrGdslD9oQ/giphy.gif\" width=50%/>\n",
    "\n",
    "  - [1) Try to develop a high-level understanding of _ITU-MiniTwit_.](#1\\)-Try-to-develop-a-high-level-understanding-of-ITU-MiniTwit.)\n",
    "  - [2) Migrate _ITU-MiniTwit_ to run on a modern computer running Ubuntu 18.04.](#2\\)-Migrate-ITU-MiniTwit-to-run-on-a-modern-computer-running-Ubuntu-18.04.)\n",
    "  - [3) Readings for next time](#3\\)-Readings-for-next-time)\n",
    "\n"
   ]
  },
  {
   "cell_type": "markdown",
   "metadata": {},
   "source": [
    "## 1) Try to develop a high-level understanding of _ITU-MiniTwit_.\n",
    "\n",
    "Throughout the semester you will work on your own version of _ITU-MiniTwit_, which will be in many ways similar to the version you just took over. Therefore, it is worth to understand how it is working. Perhaps it is best to start your investigation on the top of the file `minitwit.py`, followed by the function `timeline()`, the functions `before_request()` and `after_request`, and then all the other functions.\n",
    "\n",
    "As described in class, _ITU-MiniTwit_ relies on the web-application framework [Flask](https://palletsprojects.com/p/flask/). The [official documentation](https://flask.palletsprojects.com/en/1.1.x/) as well as the book [Flask Web Development](https://www.oreilly.com/library/view/flask-web-development/9781491991725/) might support you in this task. In case you are in doubt about some Python constructs, the free book [Whirlwind Tour of Python](https://jakevdp.github.io/WhirlwindTourOfPython/) might be helpful.\n",
    "\n",
    "\n",
    "\n",
    "#### Why do we do that? Why do I have to understand other peoples' code?\n",
    "\n",
    "\n",
    "  > Unfortunately, computer programming education often focuses on how to single-handedly develop programs from scratch in a single language and single execution environment, a development style prevalent in the 1950s and 60s. Nowadays, software development is typically a team-based activity and most often involves extending and maintaining existing systems written in a multitude of languages for diverse execution environments. It’s now even more important to understand code concepts, forms, structures, and idioms to be able to write code that  other programmers can read easily.\n",
    "  >\n",
    "  > [Diomidis Spinellis _\"Reading, Writing Code\"_](https://dl.acm.org/doi/pdf/10.1145/957717.957782)\n",
    "  \n",
    "Many of the barriers for taking over the system are also identified as issues when joining an open-source community in [Steinmacher et al. _\"Let Me In: Guidelines for the Successful Onboarding of Newcomers to Open Source Projects\"](https://ieeexplore.ieee.org/stamp/stamp.jsp?arnumber=8254320&tag=1)"
   ]
  },
  {
   "cell_type": "markdown",
   "metadata": {
    "slideshow": {
     "slide_type": "subslide"
    }
   },
   "source": [
    "## 2) Migrate _ITU-MiniTwit_ to run on a modern computer running Ubuntu 18.04.\n",
    "\n",
    "By \"modern computer running Ubuntu 18.04\", we mean your personal computer.\n",
    "\n",
    "### What do you need?\n",
    "\n",
    "  * A modern Python, i.e., version at least 3.7\n",
    "    - Hint: likely the easiest way to install this is via Anaconda (a Python distribution), which comes with many of the required dependencies already installed.\n",
    "    - To install it run (and follow the on screen advice):\n",
    "```bash\n",
    "$ wget https://repo.anaconda.com/archive/Anaconda3-2019.10-Linux-x86_64.sh\n",
    "$ bash ~/Downloads/Anaconda3-2019.10-Linux-x86_64.sh\n",
    "```\n",
    "    - To make use of this Python, either open a new terminal window (and close your current one), or reload your shell configuration by:\n",
    "    ```bash\n",
    "    source ~/.bashrc\n",
    "    ```\n",
    "    * Part of the Anaconda distribution is a distribution of the SQLite3 database system, which you can check with:\n",
    "    ```bash\n",
    "    $ sqlite3 --version\n",
    "$ which sqlite3\n",
    "    ```\n",
    "  * A current C compiler, e.g., `gcc`\n",
    "    - Likely it is already part of your Ubuntu installation.\n",
    "    - You can check that, for example with:\n",
    "    ```bash\n",
    "    gcc --version\n",
    "    ```\n",
    "    - Since the `flag_tool` is a C program, you have to compile it again to support your processor architecture and operating system.\n",
    "      * `flag_tool` includes `sqlite3.h`, which is likely not yet installed on your system.\n",
    "      * It can be installed (together with the required shared library) via:\n",
    "      ```bash\n",
    "      sudo apt-get install libsqlite3-dev\n",
    "      ```\n",
    "  * Since you will be programming a lot during this project, likely, a code editor comes in handy. Either use one that is installed with your system or:\n",
    "    - In case you like [VSCodium](https://vscodium.com/), you can install it like this:\n",
    "    ```bash\n",
    "wget -qO - https://gitlab.com/paulcarroty/vscodium-deb-rpm-repo/raw/master/pub.gpg | sudo apt-key add - \n",
    "echo 'deb https://gitlab.com/paulcarroty/vscodium-deb-rpm-repo/raw/repos/debs/ vscodium main' | sudo tee --append /etc/apt/sources.list.d/vscodium.list \n",
    "sudo apt update && sudo apt install codium\n",
    "```\n",
    "    - Another small terminal text editor that you might like is the [Micro Editor](https://micro-editor.github.io/), which can be installed as in the following:\n",
    "    ```bash\n",
    "    sudo apt-get install xclip\n",
    "    snap install micro --classic\n",
    "    ```\n",
    "   - To inspect the database file while refactoring, you might want to use a tool to \"look into\" your database file, such as the [DB Browser for SQLite](https://sqlitebrowser.org/), which you can install via:\n",
    "   ```bash\n",
    "   sudo apt install sqlitebrowser\n",
    "   ```    \n",
    "    \n",
    "### How do I start refactoring _ITU-MiniTwit_?\n",
    "\n",
    "Your task is to modify as few lines as possible in the given sources of _ITU-MiniTwit_, just enough to make it run on your Ubuntu Linux system with a Python 3.7 system.\n",
    "\n",
    "  * You will likely want to make use of the tool `2to3`, which was installed together with Anaconda and which can help you translating Python 2 programs to Python 3 programs.\n",
    "    - You might want to read its help text before using it:\n",
    "    ```bash\n",
    "    2to3 --help\n",
    "    ```\n",
    "    - After applying the `2to3` tool compare the original source code of `minitwit.py`, i.e., the one that you received in class from the old server, with the `minitwit.py3` that is generated by the tool.\n",
    "      - You can compare text files with the `diff` command:\n",
    "      ```bash\n",
    "      diff minitwit.py minitwit.py3\n",
    "      ```\n",
    "      - Once you are sure that you understand what the `2to3` tool changed, replace the contents of `minitwit.py` with the Python 3 sources.\n",
    "    \n",
    "    \n",
    "  * **Hint**: \n",
    "    - When converting `minitwit.py` to Python 3 you might receive an error when reading the SQL script when initializing the database in line: `db.cursor().executescript(f.read())`. Likely decoding of the file contents into `utf-8` has to be declared explicitely.\n",
    "    - Make sure to test this code (by running it), which will only be executed when initializing an empty database.\n",
    "  \n",
    "  * Adapt the command in the `Makefile` that builds the `flag_tool`. Likely, the shared library is located in a different place, and after installing `libsqlite3-dev` you might not necessarily have to specify it explicitly.\n",
    "    - Check the runtime dependencies of your compiled `flag_tool` with the `ldd` command:\n",
    "    ```bash\n",
    "    ldd ~/Desktop/itu-minitwit/flag_tool\n",
    "    ```\n",
    "  * Lastly, adapt the shell script `control.sh` according to the recommendations of the tool `shellcheck` (a linter for shell scripts)\n",
    "    ```bash\n",
    "    shellcheck control.sh\n",
    "    ```\n",
    "    - You can install the tool via: `sudo apt install shellcheck`\n",
    "\n",
    "### Share your Work on Github\n",
    "\n",
    "\n",
    "  - Create a public repository on Github. \n",
    "    - Either create an organization, which will hold all your work as repositories for this semester, and to which you invite all team members. \n",
    "    - Or, create a public repository for one of you and invite the other team members as collaborators. \n",
    "  - Keep versions of all your refactoring work in that repository.\n",
    "  - Once you are done (and latest by **Wednesday Feb 5th, at 23:59**) [create a release](https://help.github.com/en/github/administering-a-repository/creating-releases) with your refactored version of _ITU-MiniTwit_.\n",
    " \n",
    "\n"
   ]
  },
  {
   "cell_type": "markdown",
   "metadata": {
    "slideshow": {
     "slide_type": "subslide"
    }
   },
   "source": [
    "## 3) Readings for next time\n",
    "\n",
    "In case you did not configure your Git installation already, do so as described in [First-Time Git Setup](https://git-scm.com/book/en/v2/Getting-Started-First-Time-Git-Setup)\n",
    "\n",
    "In particular, configure your username, email address, and command line editor: \n",
    "\n",
    "```bash\n",
    "$ git config --global user.name \"<Your Name>\"\n",
    "$ git config --global user.email <yourname>@itu.dk\n",
    "```\n",
    "\n",
    "In case you are not into using VI as command line editor, you might want to choose `nano`\n",
    "\n",
    "```bash\n",
    "$ git config --global core.editor nano\n",
    "```\n",
    "\n",
    "\n",
    "Next week I assume that you are alright with basic Git commands and concepts. In case you want to refresh your knowledge read chapter 2 _\"Git Basics\"_ from the free online [Pro Git book](https://git-scm.com/book/en/v2)"
   ]
  }
 ],
 "metadata": {
  "celltoolbar": "Slideshow",
  "kernelspec": {
   "display_name": "Python 3",
   "language": "python",
   "name": "python3"
  },
  "language_info": {
   "codemirror_mode": {
    "name": "ipython",
    "version": 3
   },
   "file_extension": ".py",
   "mimetype": "text/x-python",
   "name": "python",
   "nbconvert_exporter": "python",
   "pygments_lexer": "ipython3",
   "version": "3.7.3"
  }
 },
 "nbformat": 4,
 "nbformat_minor": 2
}
